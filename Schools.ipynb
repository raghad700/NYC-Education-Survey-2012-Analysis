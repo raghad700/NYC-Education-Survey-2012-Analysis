{
  "nbformat": 4,
  "nbformat_minor": 0,
  "metadata": {
    "colab": {
      "private_outputs": true,
      "provenance": [],
      "collapsed_sections": [
        "J9gjDtH7rWII",
        "PCdBgt7Fr-t6",
        "LAiJ5zEmyQjO",
        "unGL1aCEzOMd"
      ]
    },
    "kernelspec": {
      "name": "python3",
      "display_name": "Python 3"
    },
    "language_info": {
      "name": "python"
    }
  },
  "cells": [
    {
      "cell_type": "markdown",
      "source": [
        "#Task3:\n",
        "\n"
      ],
      "metadata": {
        "id": "F39DRg4621rZ"
      }
    },
    {
      "cell_type": "markdown",
      "source": [
        "##Data Loading & Initial Exploration"
      ],
      "metadata": {
        "id": "8l7vm8BJ3miq"
      }
    },
    {
      "cell_type": "code",
      "execution_count": null,
      "metadata": {
        "id": "K1O8jYCs4Y-n"
      },
      "outputs": [],
      "source": [
        "from google.colab import drive\n",
        "drive.mount('/content/drive')"
      ]
    },
    {
      "cell_type": "markdown",
      "source": [
        "###Import Libraries & Load Data\n"
      ],
      "metadata": {
        "id": "J9gjDtH7rWII"
      }
    },
    {
      "cell_type": "code",
      "source": [
        "import pandas as pd\n",
        "import numpy as np\n",
        "import matplotlib.pyplot as plt\n",
        "import seaborn as sns\n"
      ],
      "metadata": {
        "id": "rla_Urw76qkr"
      },
      "execution_count": null,
      "outputs": []
    },
    {
      "cell_type": "code",
      "source": [
        "data = pd.read_csv('/content/drive/MyDrive/General_Education_School.csv')"
      ],
      "metadata": {
        "id": "E0QazxcOsfYH"
      },
      "execution_count": null,
      "outputs": []
    },
    {
      "cell_type": "code",
      "source": [
        "# copy data in df without first row\n",
        "df = data.iloc[1:].copy()"
      ],
      "metadata": {
        "id": "YDUlM3j_7Ae3"
      },
      "execution_count": null,
      "outputs": []
    },
    {
      "cell_type": "code",
      "source": [
        "df.shape"
      ],
      "metadata": {
        "id": "nvY-mcvSTt0M"
      },
      "execution_count": null,
      "outputs": []
    },
    {
      "cell_type": "code",
      "source": [
        "df.head()"
      ],
      "metadata": {
        "id": "WZ77rJBd4O1p"
      },
      "execution_count": null,
      "outputs": []
    },
    {
      "cell_type": "code",
      "source": [
        "# Check dataset information\n",
        "df.info()"
      ],
      "metadata": {
        "id": "dolXXmht5mXQ"
      },
      "execution_count": null,
      "outputs": []
    },
    {
      "cell_type": "code",
      "source": [
        "df.describe()"
      ],
      "metadata": {
        "id": "pv1fu7C25y4_"
      },
      "execution_count": null,
      "outputs": []
    },
    {
      "cell_type": "markdown",
      "source": [
        "###Check Dataset Structure\n"
      ],
      "metadata": {
        "id": "PCdBgt7Fr-t6"
      }
    },
    {
      "cell_type": "code",
      "source": [
        "print(\"Number of schools:\", df['DBN'].nunique())\n",
        "print(\"Number of schools:\", df['School Name'].nunique())\n",
        "print(\"\\nSchool Type Distribution:\")\n",
        "print(df['School Type'].value_counts())"
      ],
      "metadata": {
        "id": "pSNdPujkr8YU"
      },
      "execution_count": null,
      "outputs": []
    },
    {
      "cell_type": "markdown",
      "source": [
        "##Data Cleaning & Preprocessing"
      ],
      "metadata": {
        "id": "LAiJ5zEmyQjO"
      }
    },
    {
      "cell_type": "code",
      "source": [
        "def convert_percent(x):\n",
        "    if pd.isna(x) or x == 'NA':\n",
        "        return None\n",
        "    try:\n",
        "        return float(str(x).strip('%'))/100 if '%' in str(x) else float(x)\n",
        "    except ValueError:\n",
        "        return None\n",
        "\n",
        "# Apply conversion to response rate columns\n",
        "response_cols = ['Parent Response Rate', 'Teacher Response Rate', 'Student Response Rate']\n",
        "for col in response_cols:\n",
        "    df[col] = df[col].apply(convert_percent)\n",
        "\n",
        "# Handle missing Student Response Rates for Early Childhood/Elementary Schools\n",
        "early_childhood_mask = df['School Type'].str.contains('Early Childhood School|Elementary School', case=False, na=False)\n",
        "df.loc[early_childhood_mask, 'Student Response Rate'] = 'NaN'  # Assume no student surveys\n"
      ],
      "metadata": {
        "id": "gCT1iKFotR4O"
      },
      "execution_count": null,
      "outputs": []
    },
    {
      "cell_type": "markdown",
      "source": [
        "###Check for Duplicates & Missing Data"
      ],
      "metadata": {
        "id": "5dzRe_lWy1zh"
      }
    },
    {
      "cell_type": "code",
      "source": [
        "df = df.drop_duplicates()  # Remove duplicates\n",
        "print(\"\\nMissing Values:\")\n",
        "print(df.isnull().sum())"
      ],
      "metadata": {
        "id": "75BsKx7ny5PB"
      },
      "execution_count": null,
      "outputs": []
    },
    {
      "cell_type": "code",
      "source": [
        "missing_rows = df[df['Student Response Rate'].isna()]\n",
        "print(\"\\n Student Response Rate:\")\n",
        "print(missing_rows[['DBN','School Type']])"
      ],
      "metadata": {
        "id": "ib55Bw2_L-7k"
      },
      "execution_count": null,
      "outputs": []
    },
    {
      "cell_type": "code",
      "source": [
        "mean_response = df.loc[df['School Type'] == 'Middle School', 'Student Response Rate'].mean()\n",
        "df.loc[df['School Type'] == 'Middle School', 'Student Response Rate'] = df.loc[df['School Type'] == 'Middle School', 'Student Response Rate'].fillna(mean_response)\n",
        "print(df.isnull().sum())"
      ],
      "metadata": {
        "id": "yoJEhYwLIw9X"
      },
      "execution_count": null,
      "outputs": []
    },
    {
      "cell_type": "markdown",
      "source": [
        "##Exploratory Data Analysis (EDA)"
      ],
      "metadata": {
        "id": "unGL1aCEzOMd"
      }
    },
    {
      "cell_type": "code",
      "source": [
        "numeric_cols = ['Parent Response Rate', 'Teacher Response Rate', 'Student Response Rate','Total Safety and Respect Score', 'Total Communication Score', 'Total Engagement Score', 'Total Academic Expectations Score']\n",
        "for col in numeric_cols:\n",
        "    df[col] = pd.to_numeric(df[col], errors='coerce')\n"
      ],
      "metadata": {
        "id": "r-9X9sIIhDDl"
      },
      "execution_count": null,
      "outputs": []
    },
    {
      "cell_type": "code",
      "source": [
        "response_columns = ['Parent Response Rate', 'Teacher Response Rate', 'Student Response Rate']\n",
        "print(\"\\nAverage Response Rates:\")\n",
        "avg_rates = df[response_columns].apply(lambda x: x.mean(skipna=True) if x.name == 'Student Response Rate' else x.mean())\n",
        "print(avg_rates)\n"
      ],
      "metadata": {
        "id": "BLcJwK4TGXYu"
      },
      "execution_count": null,
      "outputs": []
    },
    {
      "cell_type": "code",
      "source": [
        "# Set style for better visualization\n",
        "sns.set(style=\"whitegrid\")\n",
        "variables = ['Total Safety and Respect Score', 'Total Communication Score', 'Total Engagement Score']\n",
        "# Create figure with 3 side-by-side boxplots\n",
        "plt.figure(figsize=(10, 6))\n",
        "plt.suptitle('Distribution of School Performance Scores', fontsize=16, y=1.05)\n",
        "for i, var in enumerate(variables, 1):\n",
        "    plt.subplot(1, 3, i)\n",
        "    # Convert to numeric, handling errors\n",
        "    numeric_data = pd.to_numeric(df[var], errors='coerce')\n",
        "    sns.boxplot(x=numeric_data, color='green')\n",
        "    plt.title(var)\n",
        "    # Calculate mean of numeric data, ignoring NaNs\n",
        "    mean_value = np.nanmean(numeric_data)\n",
        "    plt.axvline(mean_value, color='red', linestyle='--', label=f'Mean: {mean_value:.2f}')\n",
        "    plt.legend()\n",
        "plt.tight_layout()\n",
        "plt.show()"
      ],
      "metadata": {
        "id": "D7g5P6W1vtc_"
      },
      "execution_count": null,
      "outputs": []
    },
    {
      "cell_type": "markdown",
      "source": [
        "##Correlation & Deep Dive Analysis"
      ],
      "metadata": {
        "id": "yD-KYb0F2kis"
      }
    },
    {
      "cell_type": "code",
      "source": [
        "#numeric_cols = df.select_dtypes(include='number').columns\n",
        "corr_matrix = df[ ['Parent Response Rate', 'Teacher Response Rate', 'Student Response Rate']].corr()\n",
        "\n",
        "plt.figure(figsize=(6, 6))\n",
        "sns.heatmap(corr_matrix, annot=True, cmap='coolwarm')\n",
        "plt.title(\"correlition between\")\n",
        "plt.show()"
      ],
      "metadata": {
        "id": "2km4OjWB8vAg"
      },
      "execution_count": null,
      "outputs": []
    },
    {
      "cell_type": "code",
      "source": [
        "corr_matrix = df[ ['Parent Response Rate', 'Total Safety and Respect Score','Total Communication Score'\t,'Total Engagement Score','Total Academic Expectations Score' ]].corr()\n",
        "plt.figure(figsize=(6, 6))\n",
        "sns.heatmap(corr_matrix, annot=True, cmap='coolwarm')\n",
        "plt.title(\"correlition between\")\n",
        "plt.show()"
      ],
      "metadata": {
        "id": "x48kFt8i8iO1"
      },
      "execution_count": null,
      "outputs": []
    },
    {
      "cell_type": "markdown",
      "source": [
        "## Correlation & Deep Dive Analysis"
      ],
      "metadata": {
        "id": "Lnr0xqjWDZAB"
      }
    },
    {
      "cell_type": "markdown",
      "source": [
        "###Group by School Type"
      ],
      "metadata": {
        "id": "E0qeicswEPQ9"
      }
    },
    {
      "cell_type": "code",
      "source": [
        "df['Total Communication and Engagement Score'] = (df['Total Communication Score'] + df['Total Engagement Score']) / 2\n",
        "df = df.drop(columns=['Total Communication Score', 'Total Engagement Score'])"
      ],
      "metadata": {
        "id": "Yiw8U_3vZW7E"
      },
      "execution_count": null,
      "outputs": []
    },
    {
      "cell_type": "code",
      "source": [
        "numeric_cols = ['Parent Response Rate', 'Teacher Response Rate', 'Student Response Rate','Total Safety and Respect Score', 'Total Communication and Engagement Score' , 'Total Academic Expectations Score']\n",
        "for col in numeric_cols:\n",
        "    df[col] = pd.to_numeric(df[col], errors='coerce')\n"
      ],
      "metadata": {
        "id": "ME36XQBqkPos"
      },
      "execution_count": null,
      "outputs": []
    },
    {
      "cell_type": "code",
      "source": [
        "grouped_df = df.groupby('School Type')[numeric_cols].mean()\n",
        "print(\"\\nResponse Rates by School Type:\")\n",
        "print(grouped_df.to_string(float_format=\"%.2f\", index=True))"
      ],
      "metadata": {
        "id": "0Szv07QeDcf_"
      },
      "execution_count": null,
      "outputs": []
    },
    {
      "cell_type": "markdown",
      "source": [
        "###Group by School Type & Borough"
      ],
      "metadata": {
        "id": "f4OdsdgWIfWH"
      }
    },
    {
      "cell_type": "code",
      "source": [
        "borough_mapping = {'M': 'Manhattan', 'K': 'Brooklyn', 'Q': 'Queens', 'X': 'Bronx', 'R': 'Staten Island'}\n",
        "df['Borough'] = df['DBN'].str[2].map(borough_mapping)\n",
        "analysis = df.groupby(['Borough', 'School Type'])[numeric_cols].mean().round(2)\n",
        "\n",
        "def display_pretty_table(data, title):\n",
        "    display(data.style\n",
        "            .background_gradient(cmap='Blues')\n",
        "            .set_caption(title)\n",
        "            .set_properties(**{'text-align': 'center',\n",
        "                              'border': '1px solid black'})\n",
        "            .format(precision=2)\n",
        "       )\n",
        "\n",
        "# جدول نسب الاستجابة\n",
        "response_table = analysis[['Parent Response Rate', 'Teacher Response Rate', 'Student Response Rate',\n",
        "                          'Total Safety and Respect Score', 'Total Communication and Engagement Score']]\n",
        "display_pretty_table(response_table, 'analyst')"
      ],
      "metadata": {
        "id": "miiWYWe98tkm"
      },
      "execution_count": null,
      "outputs": []
    }
  ]
}